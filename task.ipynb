{
 "cells": [
  {
   "cell_type": "markdown",
   "id": "bcf5ad10-5fc8-46d4-afb3-cc5fc6ab163c",
   "metadata": {},
   "source": [
    "# Dataset"
   ]
  },
  {
   "cell_type": "markdown",
   "id": "c4ff5b84-ead2-4039-839d-d22725e5ab2d",
   "metadata": {},
   "source": [
    "https://www.kaggle.com/uciml/sms-spam-collection-dataset"
   ]
  },
  {
   "cell_type": "markdown",
   "id": "0688d73b-01f9-4d37-84b0-971b8de7cf02",
   "metadata": {
    "tags": []
   },
   "source": [
    "# Imports"
   ]
  },
  {
   "cell_type": "code",
   "execution_count": 1,
   "id": "b576b41d-b67d-4c2c-bca9-d9ebf6e4fe84",
   "metadata": {},
   "outputs": [
    {
     "name": "stderr",
     "output_type": "stream",
     "text": [
      "[nltk_data] Downloading package stopwords to /home/ilya/nltk_data...\n",
      "[nltk_data]   Package stopwords is already up-to-date!\n",
      "[nltk_data] Downloading package wordnet to /home/ilya/nltk_data...\n",
      "[nltk_data]   Package wordnet is already up-to-date!\n"
     ]
    }
   ],
   "source": [
    "import pandas as pd\n",
    "import numpy as np\n",
    "import matplotlib.pyplot as plt\n",
    "import seaborn as sns\n",
    "%matplotlib inline\n",
    "\n",
    "import re, string, unicodedata\n",
    "from collections import Counter\n",
    "\n",
    "import nltk\n",
    "nltk.download('stopwords')\n",
    "nltk.download('wordnet')\n",
    "from nltk.corpus import stopwords\n",
    "from nltk.stem import WordNetLemmatizer\n",
    "\n",
    "from sklearn.model_selection import train_test_split\n",
    "from sklearn import metrics\n",
    "from sklearn.pipeline import Pipeline\n",
    "from sklearn.preprocessing import StandardScaler\n",
    "from sklearn.model_selection import GridSearchCV\n",
    "from sklearn.neighbors import KNeighborsClassifier"
   ]
  },
  {
   "cell_type": "markdown",
   "id": "70d19e46-45fe-449f-a006-04e5a0d3a463",
   "metadata": {
    "tags": []
   },
   "source": [
    "# Plots functions"
   ]
  },
  {
   "cell_type": "markdown",
   "id": "b5434ab2-f3e6-4113-8a0c-b5bae4676e28",
   "metadata": {},
   "source": [
    "Создадим вспомогательные методы для отображения различных кривых и метрик предсказания."
   ]
  },
  {
   "cell_type": "code",
   "execution_count": 2,
   "id": "2702824a-bd15-4a6e-999c-ebab731b017a",
   "metadata": {},
   "outputs": [],
   "source": [
    "def plot_precision_vs_recall(precisions, recalls):\n",
    "    plt.plot(recalls, precisions, \"b-\", linewidth=2)\n",
    "    plt.xlabel(\"Recall\", fontsize=16)\n",
    "    plt.ylabel(\"Precision\", fontsize=16)\n",
    "    plt.axis([0, 1, 0, 1])\n",
    "    plt.grid()"
   ]
  },
  {
   "cell_type": "code",
   "execution_count": 3,
   "id": "4e8db75a-f6df-4c38-8761-eac81cfae601",
   "metadata": {},
   "outputs": [],
   "source": [
    "def plot_roc_curve(fpr, tpr, label=None):\n",
    "    plt.plot(fpr, tpr, linewidth=2, label=label)\n",
    "    plt.plot([0, 1], [0, 1], 'k--')\n",
    "    plt.axis([0, 1, 0, 1])\n",
    "    plt.xlabel('False Positive Rate', fontsize=16)\n",
    "    plt.ylabel('True Positive Rate', fontsize=16)\n",
    "    plt.grid()"
   ]
  },
  {
   "cell_type": "code",
   "execution_count": 4,
   "id": "52206439-1d5d-4285-83c7-185e6446f584",
   "metadata": {},
   "outputs": [],
   "source": [
    "def print_stats(y_test, y_pred):    \n",
    "    print(\"Confusion Matrix: \\n\", metrics.confusion_matrix(y_test,y_pred))\n",
    "    print(\"Classification Report: \\n\", metrics.classification_report(y_test, y_pred))\n",
    "    print(\"Accuracy: {:.2f}%\".format(100 * metrics.accuracy_score(y_test, y_pred)))\n",
    "    print(\"Precision: {:.2f}%\".format(100 * metrics.precision_score(y_test, y_pred)))\n",
    "    print(\"Recall: {:.2f}%\".format(100 * metrics.recall_score(y_test, y_pred)))"
   ]
  },
  {
   "cell_type": "markdown",
   "id": "49768e39-ca4d-446e-9e60-054bf38b2857",
   "metadata": {
    "tags": []
   },
   "source": [
    "# Upload data"
   ]
  },
  {
   "cell_type": "code",
   "execution_count": 5,
   "id": "9908149b-c44d-43be-a9b1-03c8677172af",
   "metadata": {},
   "outputs": [],
   "source": [
    "df = pd.read_csv('spam.csv', encoding='latin-1')"
   ]
  },
  {
   "cell_type": "code",
   "execution_count": 6,
   "id": "952e4ab9-23b2-4d01-9843-3c5512ba961f",
   "metadata": {},
   "outputs": [
    {
     "data": {
      "text/html": [
       "<div>\n",
       "<style scoped>\n",
       "    .dataframe tbody tr th:only-of-type {\n",
       "        vertical-align: middle;\n",
       "    }\n",
       "\n",
       "    .dataframe tbody tr th {\n",
       "        vertical-align: top;\n",
       "    }\n",
       "\n",
       "    .dataframe thead th {\n",
       "        text-align: right;\n",
       "    }\n",
       "</style>\n",
       "<table border=\"1\" class=\"dataframe\">\n",
       "  <thead>\n",
       "    <tr style=\"text-align: right;\">\n",
       "      <th></th>\n",
       "      <th>v1</th>\n",
       "      <th>v2</th>\n",
       "      <th>Unnamed: 2</th>\n",
       "      <th>Unnamed: 3</th>\n",
       "      <th>Unnamed: 4</th>\n",
       "    </tr>\n",
       "  </thead>\n",
       "  <tbody>\n",
       "    <tr>\n",
       "      <th>0</th>\n",
       "      <td>ham</td>\n",
       "      <td>Go until jurong point, crazy.. Available only ...</td>\n",
       "      <td>NaN</td>\n",
       "      <td>NaN</td>\n",
       "      <td>NaN</td>\n",
       "    </tr>\n",
       "    <tr>\n",
       "      <th>1</th>\n",
       "      <td>ham</td>\n",
       "      <td>Ok lar... Joking wif u oni...</td>\n",
       "      <td>NaN</td>\n",
       "      <td>NaN</td>\n",
       "      <td>NaN</td>\n",
       "    </tr>\n",
       "    <tr>\n",
       "      <th>2</th>\n",
       "      <td>spam</td>\n",
       "      <td>Free entry in 2 a wkly comp to win FA Cup fina...</td>\n",
       "      <td>NaN</td>\n",
       "      <td>NaN</td>\n",
       "      <td>NaN</td>\n",
       "    </tr>\n",
       "    <tr>\n",
       "      <th>3</th>\n",
       "      <td>ham</td>\n",
       "      <td>U dun say so early hor... U c already then say...</td>\n",
       "      <td>NaN</td>\n",
       "      <td>NaN</td>\n",
       "      <td>NaN</td>\n",
       "    </tr>\n",
       "    <tr>\n",
       "      <th>4</th>\n",
       "      <td>ham</td>\n",
       "      <td>Nah I don't think he goes to usf, he lives aro...</td>\n",
       "      <td>NaN</td>\n",
       "      <td>NaN</td>\n",
       "      <td>NaN</td>\n",
       "    </tr>\n",
       "  </tbody>\n",
       "</table>\n",
       "</div>"
      ],
      "text/plain": [
       "     v1                                                 v2 Unnamed: 2  \\\n",
       "0   ham  Go until jurong point, crazy.. Available only ...        NaN   \n",
       "1   ham                      Ok lar... Joking wif u oni...        NaN   \n",
       "2  spam  Free entry in 2 a wkly comp to win FA Cup fina...        NaN   \n",
       "3   ham  U dun say so early hor... U c already then say...        NaN   \n",
       "4   ham  Nah I don't think he goes to usf, he lives aro...        NaN   \n",
       "\n",
       "  Unnamed: 3 Unnamed: 4  \n",
       "0        NaN        NaN  \n",
       "1        NaN        NaN  \n",
       "2        NaN        NaN  \n",
       "3        NaN        NaN  \n",
       "4        NaN        NaN  "
      ]
     },
     "execution_count": 6,
     "metadata": {},
     "output_type": "execute_result"
    }
   ],
   "source": [
    "df.head()"
   ]
  },
  {
   "cell_type": "code",
   "execution_count": 7,
   "id": "93c062ba-feb9-4f70-ad66-da5fcb2af85c",
   "metadata": {},
   "outputs": [
    {
     "data": {
      "text/plain": [
       "(5572, 5)"
      ]
     },
     "execution_count": 7,
     "metadata": {},
     "output_type": "execute_result"
    }
   ],
   "source": [
    "df.shape"
   ]
  },
  {
   "cell_type": "markdown",
   "id": "ff39c3c5-b84d-4b87-8456-0540e37fcb88",
   "metadata": {},
   "source": [
    "Почистим:"
   ]
  },
  {
   "cell_type": "code",
   "execution_count": 8,
   "id": "4ad8684e-0fa0-4ccd-83b2-6d0087739225",
   "metadata": {},
   "outputs": [],
   "source": [
    "df = df.rename({'v1': 'mark', 'v2': 'message'}, axis=1)\n",
    "df = df[['mark', 'message']]\n",
    "df.mark = df.mark.apply(lambda mark : 0 if mark == 'ham' else 1)"
   ]
  },
  {
   "cell_type": "code",
   "execution_count": 9,
   "id": "6fab106e-09a8-4049-9920-e5c9817b2b16",
   "metadata": {},
   "outputs": [
    {
     "data": {
      "text/html": [
       "<div>\n",
       "<style scoped>\n",
       "    .dataframe tbody tr th:only-of-type {\n",
       "        vertical-align: middle;\n",
       "    }\n",
       "\n",
       "    .dataframe tbody tr th {\n",
       "        vertical-align: top;\n",
       "    }\n",
       "\n",
       "    .dataframe thead th {\n",
       "        text-align: right;\n",
       "    }\n",
       "</style>\n",
       "<table border=\"1\" class=\"dataframe\">\n",
       "  <thead>\n",
       "    <tr style=\"text-align: right;\">\n",
       "      <th></th>\n",
       "      <th>mark</th>\n",
       "      <th>message</th>\n",
       "    </tr>\n",
       "  </thead>\n",
       "  <tbody>\n",
       "    <tr>\n",
       "      <th>0</th>\n",
       "      <td>0</td>\n",
       "      <td>Go until jurong point, crazy.. Available only ...</td>\n",
       "    </tr>\n",
       "    <tr>\n",
       "      <th>1</th>\n",
       "      <td>0</td>\n",
       "      <td>Ok lar... Joking wif u oni...</td>\n",
       "    </tr>\n",
       "    <tr>\n",
       "      <th>2</th>\n",
       "      <td>1</td>\n",
       "      <td>Free entry in 2 a wkly comp to win FA Cup fina...</td>\n",
       "    </tr>\n",
       "    <tr>\n",
       "      <th>3</th>\n",
       "      <td>0</td>\n",
       "      <td>U dun say so early hor... U c already then say...</td>\n",
       "    </tr>\n",
       "    <tr>\n",
       "      <th>4</th>\n",
       "      <td>0</td>\n",
       "      <td>Nah I don't think he goes to usf, he lives aro...</td>\n",
       "    </tr>\n",
       "  </tbody>\n",
       "</table>\n",
       "</div>"
      ],
      "text/plain": [
       "   mark                                            message\n",
       "0     0  Go until jurong point, crazy.. Available only ...\n",
       "1     0                      Ok lar... Joking wif u oni...\n",
       "2     1  Free entry in 2 a wkly comp to win FA Cup fina...\n",
       "3     0  U dun say so early hor... U c already then say...\n",
       "4     0  Nah I don't think he goes to usf, he lives aro..."
      ]
     },
     "execution_count": 9,
     "metadata": {},
     "output_type": "execute_result"
    }
   ],
   "source": [
    "df.head()"
   ]
  },
  {
   "cell_type": "markdown",
   "id": "825d80e2-924d-4e66-a487-d6d22eb111eb",
   "metadata": {},
   "source": [
    "Посмотрим, что нам может пригодиться. В первую очередь - длина сообщения и какие-то ключевые слова."
   ]
  },
  {
   "cell_type": "code",
   "execution_count": 10,
   "id": "c05192d9-f664-4c8c-b7c3-ef8e875d09b3",
   "metadata": {},
   "outputs": [],
   "source": [
    "df['message_length'] = df.message.apply(lambda message: len(message.split(' ')))"
   ]
  },
  {
   "cell_type": "code",
   "execution_count": 11,
   "id": "d358c344-24e7-4f1f-aeb3-f51f68e1d77f",
   "metadata": {},
   "outputs": [
    {
     "data": {
      "text/html": [
       "<div>\n",
       "<style scoped>\n",
       "    .dataframe tbody tr th:only-of-type {\n",
       "        vertical-align: middle;\n",
       "    }\n",
       "\n",
       "    .dataframe tbody tr th {\n",
       "        vertical-align: top;\n",
       "    }\n",
       "\n",
       "    .dataframe thead th {\n",
       "        text-align: right;\n",
       "    }\n",
       "</style>\n",
       "<table border=\"1\" class=\"dataframe\">\n",
       "  <thead>\n",
       "    <tr style=\"text-align: right;\">\n",
       "      <th></th>\n",
       "      <th>mark</th>\n",
       "      <th>message</th>\n",
       "      <th>message_length</th>\n",
       "    </tr>\n",
       "  </thead>\n",
       "  <tbody>\n",
       "    <tr>\n",
       "      <th>0</th>\n",
       "      <td>0</td>\n",
       "      <td>Go until jurong point, crazy.. Available only ...</td>\n",
       "      <td>20</td>\n",
       "    </tr>\n",
       "    <tr>\n",
       "      <th>1</th>\n",
       "      <td>0</td>\n",
       "      <td>Ok lar... Joking wif u oni...</td>\n",
       "      <td>6</td>\n",
       "    </tr>\n",
       "    <tr>\n",
       "      <th>2</th>\n",
       "      <td>1</td>\n",
       "      <td>Free entry in 2 a wkly comp to win FA Cup fina...</td>\n",
       "      <td>28</td>\n",
       "    </tr>\n",
       "    <tr>\n",
       "      <th>3</th>\n",
       "      <td>0</td>\n",
       "      <td>U dun say so early hor... U c already then say...</td>\n",
       "      <td>11</td>\n",
       "    </tr>\n",
       "    <tr>\n",
       "      <th>4</th>\n",
       "      <td>0</td>\n",
       "      <td>Nah I don't think he goes to usf, he lives aro...</td>\n",
       "      <td>13</td>\n",
       "    </tr>\n",
       "  </tbody>\n",
       "</table>\n",
       "</div>"
      ],
      "text/plain": [
       "   mark                                            message  message_length\n",
       "0     0  Go until jurong point, crazy.. Available only ...              20\n",
       "1     0                      Ok lar... Joking wif u oni...               6\n",
       "2     1  Free entry in 2 a wkly comp to win FA Cup fina...              28\n",
       "3     0  U dun say so early hor... U c already then say...              11\n",
       "4     0  Nah I don't think he goes to usf, he lives aro...              13"
      ]
     },
     "execution_count": 11,
     "metadata": {},
     "output_type": "execute_result"
    }
   ],
   "source": [
    "df.head()"
   ]
  },
  {
   "cell_type": "code",
   "execution_count": 12,
   "id": "a69e3c23-04a6-4aab-ab8b-5279bad2975c",
   "metadata": {},
   "outputs": [
    {
     "data": {
      "text/html": [
       "<div>\n",
       "<style scoped>\n",
       "    .dataframe tbody tr th:only-of-type {\n",
       "        vertical-align: middle;\n",
       "    }\n",
       "\n",
       "    .dataframe tbody tr th {\n",
       "        vertical-align: top;\n",
       "    }\n",
       "\n",
       "    .dataframe thead th {\n",
       "        text-align: right;\n",
       "    }\n",
       "</style>\n",
       "<table border=\"1\" class=\"dataframe\">\n",
       "  <thead>\n",
       "    <tr style=\"text-align: right;\">\n",
       "      <th></th>\n",
       "      <th>mark</th>\n",
       "      <th>message_length</th>\n",
       "    </tr>\n",
       "  </thead>\n",
       "  <tbody>\n",
       "    <tr>\n",
       "      <th>mark</th>\n",
       "      <td>1.000000</td>\n",
       "      <td>0.285458</td>\n",
       "    </tr>\n",
       "    <tr>\n",
       "      <th>message_length</th>\n",
       "      <td>0.285458</td>\n",
       "      <td>1.000000</td>\n",
       "    </tr>\n",
       "  </tbody>\n",
       "</table>\n",
       "</div>"
      ],
      "text/plain": [
       "                    mark  message_length\n",
       "mark            1.000000        0.285458\n",
       "message_length  0.285458        1.000000"
      ]
     },
     "execution_count": 12,
     "metadata": {},
     "output_type": "execute_result"
    }
   ],
   "source": [
    "df.corr()"
   ]
  },
  {
   "cell_type": "code",
   "execution_count": 13,
   "id": "72114cb3-94ce-44fd-867c-8b9bbc69c8a7",
   "metadata": {},
   "outputs": [
    {
     "data": {
      "image/png": "[encoded data removed]",
      "text/plain": [
       "<Figure size 432x288 with 1 Axes>"
      ]
     },
     "metadata": {
      "needs_background": "light"
     },
     "output_type": "display_data"
    }
   ],
   "source": [
    "df.plot(kind=\"scatter\", x=\"message_length\", y=\"mark\", alpha=0.1)\n",
    "None"
   ]
  },
  {
   "cell_type": "markdown",
   "id": "e98d382e-506a-4d9c-9bd2-e1c0be7d390f",
   "metadata": {},
   "source": [
    "Вывод: спам как правильно более короткий."
   ]
  },
  {
   "cell_type": "markdown",
   "id": "b8a5a5c1-aff7-4b3b-998f-130aefa92fce",
   "metadata": {},
   "source": [
    "Прежде чем искать слова сделаем обработку данных"
   ]
  },
  {
   "cell_type": "markdown",
   "id": "b44e8e49-96c8-4712-8f05-b3020964060b",
   "metadata": {
    "tags": []
   },
   "source": [
    "# Preprocessing"
   ]
  },
  {
   "cell_type": "markdown",
   "id": "e6cc4d84-e514-4500-b934-ce51911871da",
   "metadata": {},
   "source": [
    "Выкинем всё скобочки, адреса, пунктуацию, переносы строк, слова с числами; оставим по 1 пробелу между словами в сообщение"
   ]
  },
  {
   "cell_type": "code",
   "execution_count": 14,
   "id": "c90c616b-4a54-4e52-a79c-edbc774cea44",
   "metadata": {},
   "outputs": [],
   "source": [
    "def clean_text(text):\n",
    "    text = str(text).lower()\n",
    "    text = re.sub('\\[.*?\\] | <.*?>+', ' ', text)\n",
    "    text = re.sub('https?://\\S+|www\\.\\S+', ' ', text)\n",
    "    text = re.sub('[%s]' % re.escape(string.punctuation), ' ', text)\n",
    "    text = re.sub('\\n', ' ', text)\n",
    "    text = re.sub('\\w*\\d\\w*', ' ', text)\n",
    "    text = unicodedata.normalize('NFKD', text).encode('ascii', 'ignore').decode('utf-8', 'ignore')\n",
    "    text = re.sub(' +', ' ', text)\n",
    "    return text"
   ]
  },
  {
   "cell_type": "code",
   "execution_count": 15,
   "id": "b7c7ebef-930c-4ca8-9dbe-939ec12a2a4e",
   "metadata": {},
   "outputs": [],
   "source": [
    "df['message'] = df.message.apply(clean_text)"
   ]
  },
  {
   "cell_type": "code",
   "execution_count": 16,
   "id": "2a10e403-bce8-467f-b1de-b81e5e9c0e74",
   "metadata": {},
   "outputs": [
    {
     "data": {
      "text/html": [
       "<div>\n",
       "<style scoped>\n",
       "    .dataframe tbody tr th:only-of-type {\n",
       "        vertical-align: middle;\n",
       "    }\n",
       "\n",
       "    .dataframe tbody tr th {\n",
       "        vertical-align: top;\n",
       "    }\n",
       "\n",
       "    .dataframe thead th {\n",
       "        text-align: right;\n",
       "    }\n",
       "</style>\n",
       "<table border=\"1\" class=\"dataframe\">\n",
       "  <thead>\n",
       "    <tr style=\"text-align: right;\">\n",
       "      <th></th>\n",
       "      <th>mark</th>\n",
       "      <th>message</th>\n",
       "      <th>message_length</th>\n",
       "    </tr>\n",
       "  </thead>\n",
       "  <tbody>\n",
       "    <tr>\n",
       "      <th>0</th>\n",
       "      <td>0</td>\n",
       "      <td>go until jurong point crazy available only in ...</td>\n",
       "      <td>20</td>\n",
       "    </tr>\n",
       "    <tr>\n",
       "      <th>1</th>\n",
       "      <td>0</td>\n",
       "      <td>ok lar joking wif u oni</td>\n",
       "      <td>6</td>\n",
       "    </tr>\n",
       "    <tr>\n",
       "      <th>2</th>\n",
       "      <td>1</td>\n",
       "      <td>free entry in a wkly comp to win fa cup final ...</td>\n",
       "      <td>28</td>\n",
       "    </tr>\n",
       "    <tr>\n",
       "      <th>3</th>\n",
       "      <td>0</td>\n",
       "      <td>u dun say so early hor u c already then say</td>\n",
       "      <td>11</td>\n",
       "    </tr>\n",
       "    <tr>\n",
       "      <th>4</th>\n",
       "      <td>0</td>\n",
       "      <td>nah i don t think he goes to usf he lives arou...</td>\n",
       "      <td>13</td>\n",
       "    </tr>\n",
       "  </tbody>\n",
       "</table>\n",
       "</div>"
      ],
      "text/plain": [
       "   mark                                            message  message_length\n",
       "0     0  go until jurong point crazy available only in ...              20\n",
       "1     0                           ok lar joking wif u oni                6\n",
       "2     1  free entry in a wkly comp to win fa cup final ...              28\n",
       "3     0       u dun say so early hor u c already then say               11\n",
       "4     0  nah i don t think he goes to usf he lives arou...              13"
      ]
     },
     "execution_count": 16,
     "metadata": {},
     "output_type": "execute_result"
    }
   ],
   "source": [
    "df.head()"
   ]
  },
  {
   "cell_type": "markdown",
   "id": "9e9a9930-77c6-452e-8da6-781b7b0a90b0",
   "metadata": {},
   "source": [
    "Выкинем артикли, разговорные сокращения и прочие служебные части речи."
   ]
  },
  {
   "cell_type": "code",
   "execution_count": 17,
   "id": "a1b3329f-1b5e-4bc4-9920-f99042fdf4f9",
   "metadata": {},
   "outputs": [],
   "source": [
    "stop_words = [*stopwords.words('english'), *['u', 'ur', 'lt', 'gt']]\n",
    "\n",
    "def remove_stopwords(text):\n",
    "    text = ' '.join(word for word in text.split(' ') if word not in stop_words)\n",
    "    return text\n",
    "    \n",
    "df['message'] = df.message.apply(remove_stopwords)"
   ]
  },
  {
   "cell_type": "markdown",
   "id": "73447901-f8f3-4d7c-93d0-10d1bb9270ab",
   "metadata": {},
   "source": [
    "Stemming (не хотим различать слова с разными окончаниями)"
   ]
  },
  {
   "cell_type": "code",
   "execution_count": 18,
   "id": "7a6dba41-e266-42b5-8800-061c6f11b84f",
   "metadata": {},
   "outputs": [],
   "source": [
    "stemmer = nltk.SnowballStemmer(\"english\")\n",
    "\n",
    "def stemm_text(text):\n",
    "    text = ' '.join(stemmer.stem(word) for word in text.split(' '))\n",
    "    return text\n",
    "\n",
    "df['message'] = df.message.apply(stemm_text)"
   ]
  },
  {
   "cell_type": "markdown",
   "id": "994b8eb6-18f1-4d81-898d-d8bf528c5040",
   "metadata": {},
   "source": [
    "Lemmatization (не хотим различать формы слова, например, степени прилагательных)"
   ]
  },
  {
   "cell_type": "code",
   "execution_count": 19,
   "id": "66f02be6-2fc5-4136-a6e0-6343d6038eac",
   "metadata": {},
   "outputs": [],
   "source": [
    "lemmatizer = WordNetLemmatizer()\n",
    "\n",
    "def lemm_text(text):\n",
    "    text = ' '.join(lemmatizer.lemmatize(word) for word in text.split(' '))\n",
    "    return text\n",
    "\n",
    "df['message'] = df.message.apply(lemm_text)"
   ]
  },
  {
   "cell_type": "markdown",
   "id": "6ad3a2e4-1de4-4295-9bbd-c000ea6c2507",
   "metadata": {},
   "source": [
    "Удалим выбросы по длине сообщения."
   ]
  },
  {
   "cell_type": "code",
   "execution_count": 20,
   "id": "3bf1e2d4-ab15-4c53-b321-35e441a9a5f5",
   "metadata": {},
   "outputs": [
    {
     "data": {
      "text/plain": [
       "(5556, 3)"
      ]
     },
     "execution_count": 20,
     "metadata": {},
     "output_type": "execute_result"
    }
   ],
   "source": [
    "df = df.loc[df.message_length < 75]\n",
    "df.shape"
   ]
  },
  {
   "cell_type": "markdown",
   "id": "344060ee-421e-4266-99b1-38cd2c039d10",
   "metadata": {
    "tags": []
   },
   "source": [
    "# KNN solution"
   ]
  },
  {
   "cell_type": "markdown",
   "id": "1193561e-a7fd-4aea-8d75-7489c80aa8b3",
   "metadata": {},
   "source": [
    "Напишем пайплайн предобработки данных: достанем из train датасета топ 20 самых частых слов в spam и ham и добавим фичи \"частота встречаемости слова в сообщении\" для этих частых слов."
   ]
  },
  {
   "cell_type": "code",
   "execution_count": 21,
   "id": "e3b63cfc-04ba-423d-a6bb-d1a4431291a3",
   "metadata": {},
   "outputs": [],
   "source": [
    "from sklearn.base import BaseEstimator, TransformerMixin\n",
    "\n",
    "class FreqAttributesAdder(BaseEstimator, TransformerMixin):\n",
    "    def __init__(self):\n",
    "        return\n",
    "\n",
    "    def fit(self, X, y=None):\n",
    "        train = pd.DataFrame(X_train.copy())\n",
    "        train['mark'] = y_train\n",
    "        \n",
    "        self.top_ham_words = self.get_top_words(20, train[train.mark == 0].message)\n",
    "        self.top_spam_words = self.get_top_words(20, train[train.mark == 1].message)\n",
    "        self.top_spam_words = list(set(self.top_spam_words) - set(self.top_ham_words))\n",
    "        \n",
    "        train = train.drop(['mark'], axis=1)\n",
    "        return self\n",
    "    \n",
    "    def transform(self, X, y=None):\n",
    "        df = X.copy()\n",
    "        \n",
    "        for word in self.top_ham_words + self.top_spam_words:\n",
    "            df[f'word_freq_{word}'] = df.message.apply(lambda message: message.split(' ').count(word) / len(message.split(' ')))\n",
    "        \n",
    "        df = df.drop(['message'], axis=1)\n",
    "            \n",
    "        return df\n",
    "        \n",
    "    def get_top_words(self, n, messages):\n",
    "        all_words = ' '.join(messages).split()\n",
    "        counter = Counter(all_words)\n",
    "        return [t[0] for t in counter.most_common(n)]"
   ]
  },
  {
   "cell_type": "code",
   "execution_count": 22,
   "id": "e84bc93d-8d3e-4cfa-9e43-d50c3aabdeda",
   "metadata": {},
   "outputs": [],
   "source": [
    "pipeline = Pipeline([('add_attr', FreqAttributesAdder()),\n",
    "                     ('scaler', StandardScaler())])\n",
    "\n",
    "full_pipeline = Pipeline([('pipeline', pipeline),\n",
    "                          ('knn', KNeighborsClassifier())])"
   ]
  },
  {
   "cell_type": "markdown",
   "id": "e4c0508a-8c26-4bd7-bdc9-03529b24bc80",
   "metadata": {},
   "source": [
    "Ну всё, давайте делать KNN. Очевидно, что в задаче классификации spam/ham мы хотим максимизировать precision: мы хотим, чтобы как можно меньше нормальных сообщений идентифицировались как спам. Если спам распознается как нормальное сообщение, то это не сильно страшно."
   ]
  },
  {
   "cell_type": "code",
   "execution_count": 23,
   "id": "0831be3a-adc2-493a-92eb-f2552641356d",
   "metadata": {},
   "outputs": [
    {
     "data": {
      "text/plain": [
       "GridSearchCV(cv=5,\n",
       "             estimator=Pipeline(steps=[('pipeline',\n",
       "                                        Pipeline(steps=[('add_attr',\n",
       "                                                         FreqAttributesAdder()),\n",
       "                                                        ('scaler',\n",
       "                                                         StandardScaler())])),\n",
       "                                       ('knn', KNeighborsClassifier())]),\n",
       "             n_jobs=-1,\n",
       "             param_grid={'knn__metric': ['manhattan', 'euclidean'],\n",
       "                         'knn__n_neighbors': range(1, 15),\n",
       "                         'knn__weights': ['uniform', 'distance']},\n",
       "             scoring='precision')"
      ]
     },
     "execution_count": 23,
     "metadata": {},
     "output_type": "execute_result"
    }
   ],
   "source": [
    "X, y = df.drop(['mark'], axis=1), df.mark\n",
    "X_train, X_test, y_train, y_test = train_test_split(X, y, test_size=0.2)\n",
    "\n",
    "params = {'knn__n_neighbors': range(1, 15), 'knn__metric': ['manhattan', 'euclidean'], 'knn__weights': ['uniform', 'distance']}\n",
    "\n",
    "grid_pipeline = GridSearchCV(estimator=full_pipeline, param_grid=params, cv=5, scoring='precision', n_jobs=-1)\n",
    "\n",
    "grid_pipeline.fit(X_train, y_train)"
   ]
  },
  {
   "cell_type": "code",
   "execution_count": 24,
   "id": "6d2b26c5-39d8-41a0-a93b-0f124f69c6d7",
   "metadata": {},
   "outputs": [
    {
     "data": {
      "text/plain": [
       "{'knn__metric': 'manhattan', 'knn__n_neighbors': 14, 'knn__weights': 'uniform'}"
      ]
     },
     "execution_count": 24,
     "metadata": {},
     "output_type": "execute_result"
    }
   ],
   "source": [
    "grid_pipeline.best_params_"
   ]
  },
  {
   "cell_type": "code",
   "execution_count": 25,
   "id": "4c7c6476-369f-4e0c-b4c8-b3625196400f",
   "metadata": {},
   "outputs": [],
   "source": [
    "optimal_clf = grid_pipeline.best_estimator_\n",
    "\n",
    "optimal_clf.fit(X_train, y_train)\n",
    "\n",
    "y_pred = optimal_clf.predict(X_test)\n",
    "y_pred_proba = optimal_clf.predict_proba(X_test)[:,1]"
   ]
  },
  {
   "cell_type": "markdown",
   "id": "e4ad4d0b-6a14-4262-9e27-a90362e9b302",
   "metadata": {},
   "source": [
    "Посмотрим что получилось:"
   ]
  },
  {
   "cell_type": "code",
   "execution_count": 26,
   "id": "372d3d50-d80a-438f-9148-ff07571c8480",
   "metadata": {},
   "outputs": [
    {
     "name": "stdout",
     "output_type": "stream",
     "text": [
      "Confusion Matrix: \n",
      " [[958   5]\n",
      " [ 42 107]]\n",
      "Classification Report: \n",
      "               precision    recall  f1-score   support\n",
      "\n",
      "           0       0.96      0.99      0.98       963\n",
      "           1       0.96      0.72      0.82       149\n",
      "\n",
      "    accuracy                           0.96      1112\n",
      "   macro avg       0.96      0.86      0.90      1112\n",
      "weighted avg       0.96      0.96      0.96      1112\n",
      "\n",
      "Accuracy: 95.77%\n",
      "Precision: 95.54%\n",
      "Recall: 71.81%\n"
     ]
    }
   ],
   "source": [
    "print_stats(y_test, y_pred)"
   ]
  },
  {
   "cell_type": "code",
   "execution_count": 27,
   "id": "86206630-b313-438a-b652-fa6b916c414c",
   "metadata": {},
   "outputs": [
    {
     "data": {
      "image/png": "[encoded data removed]",
      "text/plain": [
       "<Figure size 432x288 with 1 Axes>"
      ]
     },
     "metadata": {
      "needs_background": "light"
     },
     "output_type": "display_data"
    }
   ],
   "source": [
    "precisions, recalls, thresholds = metrics.precision_recall_curve(y_test, y_pred_proba)\n",
    "plot_precision_vs_recall(precisions, recalls)"
   ]
  },
  {
   "cell_type": "code",
   "execution_count": 28,
   "id": "a9ecbdc6-a347-444a-8ee8-029574794c9f",
   "metadata": {},
   "outputs": [
    {
     "data": {
      "image/png": "[encoded data removed]",
      "text/plain": [
       "<Figure size 432x288 with 1 Axes>"
      ]
     },
     "metadata": {
      "needs_background": "light"
     },
     "output_type": "display_data"
    }
   ],
   "source": [
    "fpr, tpr, thresholds = metrics.roc_curve(y_test, y_pred_proba)\n",
    "plot_roc_curve(fpr, tpr)"
   ]
  },
  {
   "cell_type": "markdown",
   "id": "8c52d9e7-5a8f-4860-833d-05add5d60f29",
   "metadata": {},
   "source": [
    "KNN не слишком хорош в плане пояснения важности признаков, тут ничего не сказать."
   ]
  },
  {
   "cell_type": "markdown",
   "id": "f75945b8-a407-4c92-a524-8824a9ebd036",
   "metadata": {
    "tags": []
   },
   "source": [
    "# Model creation"
   ]
  },
  {
   "cell_type": "markdown",
   "id": "7d0b3636-2faa-4f9e-8799-539238ca5bd1",
   "metadata": {},
   "source": [
    "Для остальных двух методов построим реальный pipeline."
   ]
  },
  {
   "cell_type": "code",
   "execution_count": 29,
   "id": "1f8314d7-4d6f-4c44-90a8-07bba042826f",
   "metadata": {},
   "outputs": [],
   "source": [
    "from sklearn.linear_model import LogisticRegression\n",
    "from sklearn.model_selection import cross_val_score\n",
    "\n",
    "from sklearn.feature_extraction.text import CountVectorizer\n",
    "\n",
    "class PipelineModel:\n",
    "    \n",
    "    def __init__(self, model):\n",
    "        self.model = model\n",
    "        \n",
    "    def fit(self, X, y):\n",
    "        self.pipeline_model = Pipeline([('vect', CountVectorizer()),\n",
    "                                        ('clf', self.model)])\n",
    "        self.named_steps = self.pipeline_model.named_steps\n",
    "    \n",
    "        self.pipeline_model.fit(X, y)\n",
    "    \n",
    "    def predict(self, X):\n",
    "        return self.pipeline_model.predict(X)\n",
    "    \n",
    "    def predict_proba(self, X):\n",
    "        return self.pipeline_model.predict_proba(X)"
   ]
  },
  {
   "cell_type": "markdown",
   "id": "245d3a91-c9be-440c-be21-87e7daf9a7fe",
   "metadata": {
    "tags": []
   },
   "source": [
    "# Logistic Regression solution"
   ]
  },
  {
   "cell_type": "code",
   "execution_count": 30,
   "id": "c7d2df88-9c37-4e6d-982a-70d5ed1189ce",
   "metadata": {},
   "outputs": [],
   "source": [
    "X, y = df.message, df.mark\n",
    "X_train, X_test, y_train, y_test = train_test_split(X, y, test_size=0.2, random_state=42)\n",
    "\n",
    "\n",
    "model = PipelineModel(LogisticRegression(solver=\"liblinear\", random_state=42))\n",
    "model.fit(X_train, y_train)"
   ]
  },
  {
   "cell_type": "code",
   "execution_count": 31,
   "id": "86a5f3ad-6bb7-4142-8c0c-af4062fcdc37",
   "metadata": {},
   "outputs": [],
   "source": [
    "y_pred = model.predict(X_test)\n",
    "y_pred_proba = model.predict_proba(X_test)[:,1]"
   ]
  },
  {
   "cell_type": "code",
   "execution_count": 32,
   "id": "50f7977b-085c-462c-8f6b-d4c724abb6ad",
   "metadata": {},
   "outputs": [],
   "source": [
    "weights = sorted(list(zip(model.named_steps.clf.coef_[0], model.named_steps.vect.get_feature_names())), key=lambda x: abs(x[0]), reverse=True)\n",
    "top_spam_words = list(map(lambda x: x[1], filter(lambda x: x[0] > 0, weights)))[:15]\n",
    "top_ham_words = list(map(lambda x: x[1], filter(lambda x: x[0] < 0, weights)))[:15]"
   ]
  },
  {
   "cell_type": "code",
   "execution_count": 33,
   "id": "116760cf-85d4-4656-96ff-257df7e0b8aa",
   "metadata": {},
   "outputs": [
    {
     "data": {
      "text/plain": [
       "['txt',\n",
       " 'servic',\n",
       " 'claim',\n",
       " 'uk',\n",
       " 'chat',\n",
       " 'new',\n",
       " 'rington',\n",
       " 'text',\n",
       " 'call',\n",
       " 'cash',\n",
       " 'repli',\n",
       " 'prize',\n",
       " 'urgent',\n",
       " 'win',\n",
       " 'mobil']"
      ]
     },
     "execution_count": 33,
     "metadata": {},
     "output_type": "execute_result"
    }
   ],
   "source": [
    "top_spam_words"
   ]
  },
  {
   "cell_type": "code",
   "execution_count": 34,
   "id": "2d7b5213-61ab-4907-9a4c-a9e5866743b4",
   "metadata": {},
   "outputs": [
    {
     "data": {
      "text/plain": [
       "['later',\n",
       " 'say',\n",
       " 'sir',\n",
       " 'happi',\n",
       " 'da',\n",
       " 'amp',\n",
       " 'ok',\n",
       " 'home',\n",
       " 'way',\n",
       " 'got',\n",
       " 'might',\n",
       " 'said',\n",
       " 'work',\n",
       " 'hope',\n",
       " 'finish']"
      ]
     },
     "execution_count": 34,
     "metadata": {},
     "output_type": "execute_result"
    }
   ],
   "source": [
    "top_ham_words"
   ]
  },
  {
   "cell_type": "markdown",
   "id": "1fbc1f17-c7d1-4b34-8977-2ac0d2c13540",
   "metadata": {},
   "source": [
    "Ну получили что-то похожее на правду: наибольший положительный вес в то, что сообщение является спамом дают слова `prize`, `cash`, `cost`, `rington`, а наибольший отрицательный дают обычные разговорные слова `sir`, `ok`, `got`, `pls`"
   ]
  },
  {
   "cell_type": "code",
   "execution_count": 35,
   "id": "3cb18a36-f3bd-403e-9615-98602ef9161a",
   "metadata": {},
   "outputs": [
    {
     "name": "stdout",
     "output_type": "stream",
     "text": [
      "Confusion Matrix: \n",
      " [[962   2]\n",
      " [ 17 131]]\n",
      "Classification Report: \n",
      "               precision    recall  f1-score   support\n",
      "\n",
      "           0       0.98      1.00      0.99       964\n",
      "           1       0.98      0.89      0.93       148\n",
      "\n",
      "    accuracy                           0.98      1112\n",
      "   macro avg       0.98      0.94      0.96      1112\n",
      "weighted avg       0.98      0.98      0.98      1112\n",
      "\n",
      "Accuracy: 98.29%\n",
      "Precision: 98.50%\n",
      "Recall: 88.51%\n"
     ]
    }
   ],
   "source": [
    "print_stats(y_test, y_pred)"
   ]
  },
  {
   "cell_type": "code",
   "execution_count": 36,
   "id": "878cee75-8f5b-4dcc-82bd-2d12ee666eea",
   "metadata": {},
   "outputs": [
    {
     "data": {
      "image/png": "[encoded data removed]",
      "text/plain": [
       "<Figure size 432x288 with 1 Axes>"
      ]
     },
     "metadata": {
      "needs_background": "light"
     },
     "output_type": "display_data"
    }
   ],
   "source": [
    "precisions, recalls, thresholds = metrics.precision_recall_curve(y_test, y_pred_proba)\n",
    "plot_precision_vs_recall(precisions, recalls)"
   ]
  },
  {
   "cell_type": "code",
   "execution_count": 37,
   "id": "41e1c081-52a1-4753-aecc-50ec362c8390",
   "metadata": {},
   "outputs": [
    {
     "data": {
      "image/png": "[encoded data removed]",
      "text/plain": [
       "<Figure size 432x288 with 1 Axes>"
      ]
     },
     "metadata": {
      "needs_background": "light"
     },
     "output_type": "display_data"
    }
   ],
   "source": [
    "fpr, tpr, thresholds = metrics.roc_curve(y_test, y_pred_proba)\n",
    "plot_roc_curve(fpr, tpr)"
   ]
  },
  {
   "cell_type": "markdown",
   "id": "610e0a9d-06b8-49ff-9f0a-495283b29e66",
   "metadata": {
    "tags": []
   },
   "source": [
    "# Random Forest solution"
   ]
  },
  {
   "cell_type": "code",
   "execution_count": 38,
   "id": "17345a85-6dfb-47e1-a508-8c974e99ab3f",
   "metadata": {},
   "outputs": [],
   "source": [
    "from sklearn.ensemble import RandomForestClassifier\n",
    "\n",
    "X, y = df.message, df.mark\n",
    "X_train, X_test, y_train, y_test = train_test_split(X, y, test_size=0.2, random_state=42)\n",
    "\n",
    "model = PipelineModel(RandomForestClassifier(n_estimators=200))\n",
    "model.fit(X_train, y_train)"
   ]
  },
  {
   "cell_type": "code",
   "execution_count": 39,
   "id": "207215b4-ac56-4a88-a276-65e3aa3bdfb0",
   "metadata": {},
   "outputs": [],
   "source": [
    "y_pred = model.predict(X_test)\n",
    "y_pred_proba = model.predict_proba(X_test)[:,1]"
   ]
  },
  {
   "cell_type": "code",
   "execution_count": 40,
   "id": "30dc2cc7-42dc-4479-bdae-c8f6d05776b0",
   "metadata": {},
   "outputs": [
    {
     "name": "stdout",
     "output_type": "stream",
     "text": [
      "Confusion Matrix: \n",
      " [[963   1]\n",
      " [ 27 121]]\n",
      "Classification Report: \n",
      "               precision    recall  f1-score   support\n",
      "\n",
      "           0       0.97      1.00      0.99       964\n",
      "           1       0.99      0.82      0.90       148\n",
      "\n",
      "    accuracy                           0.97      1112\n",
      "   macro avg       0.98      0.91      0.94      1112\n",
      "weighted avg       0.98      0.97      0.97      1112\n",
      "\n",
      "Accuracy: 97.48%\n",
      "Precision: 99.18%\n",
      "Recall: 81.76%\n"
     ]
    }
   ],
   "source": [
    "print_stats(y_test, y_pred)"
   ]
  },
  {
   "cell_type": "code",
   "execution_count": 41,
   "id": "4a90ba72-ab35-4ae2-87d0-2bffebe850d7",
   "metadata": {},
   "outputs": [
    {
     "data": {
      "image/png": "[encoded data removed]",
      "text/plain": [
       "<Figure size 432x288 with 1 Axes>"
      ]
     },
     "metadata": {
      "needs_background": "light"
     },
     "output_type": "display_data"
    }
   ],
   "source": [
    "precisions, recalls, thresholds = metrics.precision_recall_curve(y_test, y_pred_proba)\n",
    "plot_precision_vs_recall(precisions, recalls)"
   ]
  },
  {
   "cell_type": "code",
   "execution_count": 42,
   "id": "f76786ff-1c57-4394-825d-b72a18319df7",
   "metadata": {},
   "outputs": [
    {
     "data": {
      "image/png": "[encoded data removed]",
      "text/plain": [
       "<Figure size 432x288 with 1 Axes>"
      ]
     },
     "metadata": {
      "needs_background": "light"
     },
     "output_type": "display_data"
    }
   ],
   "source": [
    "fpr, tpr, thresholds = metrics.roc_curve(y_test, y_pred_proba)\n",
    "plot_roc_curve(fpr, tpr)"
   ]
  },
  {
   "cell_type": "code",
   "execution_count": 43,
   "id": "5b607fe4-4123-435d-9b83-87bb3a594c60",
   "metadata": {},
   "outputs": [],
   "source": [
    "weights = sorted(list(zip(model.pipeline_model.named_steps.clf.feature_importances_, model.named_steps.vect.get_feature_names())), key=lambda x: abs(x[0]), reverse=True)\n",
    "top_important_words = list(map(lambda x: x[1], filter(lambda x: x[0] > 0, weights)))[:20]"
   ]
  },
  {
   "cell_type": "code",
   "execution_count": 44,
   "id": "8aa1dd34-a9ed-4583-8329-7c4e84ba9204",
   "metadata": {},
   "outputs": [
    {
     "data": {
      "text/plain": [
       "['txt',\n",
       " 'call',\n",
       " 'claim',\n",
       " 'free',\n",
       " 'mobil',\n",
       " 'servic',\n",
       " 'prize',\n",
       " 'text',\n",
       " 'uk',\n",
       " 'repli',\n",
       " 'nokia',\n",
       " 'tone',\n",
       " 'stop',\n",
       " 'award',\n",
       " 'urgent',\n",
       " 'win',\n",
       " 'cash',\n",
       " 'contact',\n",
       " 'collect',\n",
       " 'custom']"
      ]
     },
     "execution_count": 44,
     "metadata": {},
     "output_type": "execute_result"
    }
   ],
   "source": [
    "top_important_words"
   ]
  },
  {
   "cell_type": "markdown",
   "id": "367e1593-9c59-4eae-abd0-9837e915c549",
   "metadata": {},
   "source": [
    "А здесь просто наиболее важные слова, по которым больше и лучше всего сплитились деревья решений. Видно, что тут есть как и spam-слова, так и ham-слова."
   ]
  },
  {
   "cell_type": "markdown",
   "id": "62b76fb4-06ad-4cd1-be82-96e53d174e3e",
   "metadata": {},
   "source": [
    "# Inference"
   ]
  },
  {
   "cell_type": "markdown",
   "id": "d1867bea-e91d-4e53-97b6-4c421207354b",
   "metadata": {},
   "source": [
    "Что получилось понять: есть хороший пайплайн для обучения и тестирования моделей (по крайней мере estimator-ов & predictor-ов), можно закинуть любую модель, всё будет работать."
   ]
  },
  {
   "cell_type": "markdown",
   "id": "cd00064c-dd2d-4e34-95d3-38046857c209",
   "metadata": {},
   "source": [
    "На основании выходов можно узнать список слов, присутствие и отсутствие которых в сообщениии является очень важным при классификации на spam/ham. По сути, можно отдать эти слова как фичи в ещё одну модель, например стакнув Random Forest и KNN."
   ]
  },
  {
   "cell_type": "markdown",
   "id": "24e333f3-ce0b-4962-b75c-016d8d0548be",
   "metadata": {},
   "source": [
    "Что я могу проинтерпретировать судя по метрикам: векторизация учитывает больше (в логистической регрессии и в случайном лесу), чем наивная частота самых частых слов (в KNN).\n"
   ]
  }
 ],
 "metadata": {
  "kernelspec": {
   "display_name": "Python 3 (ipykernel)",
   "language": "python",
   "name": "python3"
  },
  "language_info": {
   "codemirror_mode": {
    "name": "ipython",
    "version": 3
   },
   "file_extension": ".py",
   "mimetype": "text/x-python",
   "name": "python",
   "nbconvert_exporter": "python",
   "pygments_lexer": "ipython3",
   "version": "3.8.10"
  }
 },
 "nbformat": 4,
 "nbformat_minor": 5
}
